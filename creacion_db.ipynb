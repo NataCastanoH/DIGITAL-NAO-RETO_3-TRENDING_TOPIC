{
 "cells": [
  {
   "cell_type": "markdown",
   "metadata": {},
   "source": [
    "![title](./logo_nao_digital.png)"
   ]
  },
  {
   "cell_type": "markdown",
   "metadata": {},
   "source": [
    "# MySQL-SQL Server en la Gestión de Bases de Datos Relacionales"
   ]
  },
  {
   "cell_type": "markdown",
   "metadata": {},
   "source": [
    "## Evidencias Ciclo 2"
   ]
  },
  {
   "cell_type": "markdown",
   "metadata": {},
   "source": [
    "*Instrucciones:*\n",
    "\n",
    "\n",
    "Atiende las siguientes indicaciones para completar las evidencias de este primer ciclo de investigación y desarrollo de esta experiencia de aprendizaje.\n",
    "\n",
    "1. Lee detenidamente el reto MySQL/SQL Server en la gestión de bases de datos relacionales\n",
    "\n",
    "2. Desarrolla las evidencias solicitadas para este ciclo ID:\n",
    "* Utiliza código SQL para todos los datos en la base en la que se almacenará la información en GitHub\n",
    "\n",
    "3. Sube las evidencias a tu espacio en Notion."
   ]
  },
  {
   "cell_type": "markdown",
   "metadata": {},
   "source": [
    "## Etapa 1: instalar e importar librerías de trabajo"
   ]
  },
  {
   "cell_type": "code",
   "execution_count": 2,
   "metadata": {},
   "outputs": [
    {
     "name": "stdout",
     "output_type": "stream",
     "text": [
      "^C\n",
      "Note: you may need to restart the kernel to use updated packages.\n"
     ]
    },
    {
     "ename": "ModuleNotFoundError",
     "evalue": "No module named 'mysql'",
     "output_type": "error",
     "traceback": [
      "\u001b[1;31m---------------------------------------------------------------------------\u001b[0m",
      "\u001b[1;31mModuleNotFoundError\u001b[0m                       Traceback (most recent call last)",
      "\u001b[1;32mc:\\Users\\Natalia\\Recursos DN_COM_58\\DIGITAL-NAO-RETO_3-MySQL-SQL_SERVER_EN_LA_GESTIÓN_DE_BASES_DE_DATOS_RELACIONALES\\creacion_db.ipynb Cell 6\u001b[0m line \u001b[0;36m4\n\u001b[0;32m      <a href='vscode-notebook-cell:/c%3A/Users/Natalia/Recursos%20DN_COM_58/DIGITAL-NAO-RETO_3-MySQL-SQL_SERVER_EN_LA_GESTI%C3%93N_DE_BASES_DE_DATOS_RELACIONALES/creacion_db.ipynb#W5sZmlsZQ%3D%3D?line=1'>2</a>\u001b[0m \u001b[39mimport\u001b[39;00m \u001b[39mpandas\u001b[39;00m \u001b[39mas\u001b[39;00m \u001b[39mpd\u001b[39;00m\n\u001b[0;32m      <a href='vscode-notebook-cell:/c%3A/Users/Natalia/Recursos%20DN_COM_58/DIGITAL-NAO-RETO_3-MySQL-SQL_SERVER_EN_LA_GESTI%C3%93N_DE_BASES_DE_DATOS_RELACIONALES/creacion_db.ipynb#W5sZmlsZQ%3D%3D?line=2'>3</a>\u001b[0m \u001b[39mimport\u001b[39;00m \u001b[39mjson\u001b[39;00m\n\u001b[1;32m----> <a href='vscode-notebook-cell:/c%3A/Users/Natalia/Recursos%20DN_COM_58/DIGITAL-NAO-RETO_3-MySQL-SQL_SERVER_EN_LA_GESTI%C3%93N_DE_BASES_DE_DATOS_RELACIONALES/creacion_db.ipynb#W5sZmlsZQ%3D%3D?line=3'>4</a>\u001b[0m \u001b[39mimport\u001b[39;00m \u001b[39mmysql\u001b[39;00m\u001b[39m.\u001b[39;00m\u001b[39mconnector\u001b[39;00m\n",
      "\u001b[1;31mModuleNotFoundError\u001b[0m: No module named 'mysql'"
     ]
    },
    {
     "name": "stdout",
     "output_type": "stream",
     "text": [
      "Requirement already satisfied: pandas in c:\\users\\natalia\\anaconda3\\lib\\site-packages (2.0.3)\n",
      "Requirement already satisfied: python-dateutil>=2.8.2 in c:\\users\\natalia\\appdata\\roaming\\python\\python311\\site-packages (from pandas) (2.8.2)\n",
      "Requirement already satisfied: pytz>=2020.1 in c:\\users\\natalia\\anaconda3\\lib\\site-packages (from pandas) (2022.7)\n",
      "Requirement already satisfied: tzdata>=2022.1 in c:\\users\\natalia\\anaconda3\\lib\\site-packages (from pandas) (2023.3)\n",
      "Requirement already satisfied: numpy>=1.21.0 in c:\\users\\natalia\\anaconda3\\lib\\site-packages (from pandas) (1.24.3)\n",
      "Requirement already satisfied: six>=1.5 in c:\\users\\natalia\\appdata\\roaming\\python\\python311\\site-packages (from python-dateutil>=2.8.2->pandas) (1.16.0)\n"
     ]
    }
   ],
   "source": [
    "%pip install pandas\n",
    "import pandas as pd\n",
    "import json\n",
    "import mysql.connector"
   ]
  },
  {
   "cell_type": "markdown",
   "metadata": {},
   "source": [
    "## Etapa 2: Crear base de datos"
   ]
  },
  {
   "cell_type": "code",
   "execution_count": 1,
   "metadata": {},
   "outputs": [
    {
     "ename": "NameError",
     "evalue": "name 'json' is not defined",
     "output_type": "error",
     "traceback": [
      "\u001b[1;31m---------------------------------------------------------------------------\u001b[0m",
      "\u001b[1;31mNameError\u001b[0m                                 Traceback (most recent call last)",
      "\u001b[1;32mc:\\Users\\Natalia\\Recursos DN_COM_58\\DIGITAL-NAO-RETO_3-MySQL-SQL_SERVER_EN_LA_GESTIÓN_DE_BASES_DE_DATOS_RELACIONALES\\creacion_db.ipynb Cell 8\u001b[0m line \u001b[0;36m3\n\u001b[0;32m      <a href='vscode-notebook-cell:/c%3A/Users/Natalia/Recursos%20DN_COM_58/DIGITAL-NAO-RETO_3-MySQL-SQL_SERVER_EN_LA_GESTI%C3%93N_DE_BASES_DE_DATOS_RELACIONALES/creacion_db.ipynb#X10sZmlsZQ%3D%3D?line=0'>1</a>\u001b[0m \u001b[39m# Leer el archivo JSON\u001b[39;00m\n\u001b[0;32m      <a href='vscode-notebook-cell:/c%3A/Users/Natalia/Recursos%20DN_COM_58/DIGITAL-NAO-RETO_3-MySQL-SQL_SERVER_EN_LA_GESTI%C3%93N_DE_BASES_DE_DATOS_RELACIONALES/creacion_db.ipynb#X10sZmlsZQ%3D%3D?line=1'>2</a>\u001b[0m \u001b[39mwith\u001b[39;00m \u001b[39mopen\u001b[39m(\u001b[39m'\u001b[39m\u001b[39mtweets_extraction.json\u001b[39m\u001b[39m'\u001b[39m, \u001b[39m'\u001b[39m\u001b[39mr\u001b[39m\u001b[39m'\u001b[39m) \u001b[39mas\u001b[39;00m file:\n\u001b[1;32m----> <a href='vscode-notebook-cell:/c%3A/Users/Natalia/Recursos%20DN_COM_58/DIGITAL-NAO-RETO_3-MySQL-SQL_SERVER_EN_LA_GESTI%C3%93N_DE_BASES_DE_DATOS_RELACIONALES/creacion_db.ipynb#X10sZmlsZQ%3D%3D?line=2'>3</a>\u001b[0m     tweets_extraction \u001b[39m=\u001b[39m json\u001b[39m.\u001b[39mload(file)\n\u001b[0;32m      <a href='vscode-notebook-cell:/c%3A/Users/Natalia/Recursos%20DN_COM_58/DIGITAL-NAO-RETO_3-MySQL-SQL_SERVER_EN_LA_GESTI%C3%93N_DE_BASES_DE_DATOS_RELACIONALES/creacion_db.ipynb#X10sZmlsZQ%3D%3D?line=4'>5</a>\u001b[0m \u001b[39m# Conectar a MySQL\u001b[39;00m\n\u001b[0;32m      <a href='vscode-notebook-cell:/c%3A/Users/Natalia/Recursos%20DN_COM_58/DIGITAL-NAO-RETO_3-MySQL-SQL_SERVER_EN_LA_GESTI%C3%93N_DE_BASES_DE_DATOS_RELACIONALES/creacion_db.ipynb#X10sZmlsZQ%3D%3D?line=5'>6</a>\u001b[0m mydb \u001b[39m=\u001b[39m mysql\u001b[39m.\u001b[39mconnector\u001b[39m.\u001b[39mconnect(\n\u001b[0;32m      <a href='vscode-notebook-cell:/c%3A/Users/Natalia/Recursos%20DN_COM_58/DIGITAL-NAO-RETO_3-MySQL-SQL_SERVER_EN_LA_GESTI%C3%93N_DE_BASES_DE_DATOS_RELACIONALES/creacion_db.ipynb#X10sZmlsZQ%3D%3D?line=6'>7</a>\u001b[0m     host\u001b[39m=\u001b[39m\u001b[39m\"\u001b[39m\u001b[39mtu_host\u001b[39m\u001b[39m\"\u001b[39m,\n\u001b[0;32m      <a href='vscode-notebook-cell:/c%3A/Users/Natalia/Recursos%20DN_COM_58/DIGITAL-NAO-RETO_3-MySQL-SQL_SERVER_EN_LA_GESTI%C3%93N_DE_BASES_DE_DATOS_RELACIONALES/creacion_db.ipynb#X10sZmlsZQ%3D%3D?line=7'>8</a>\u001b[0m     user\u001b[39m=\u001b[39m\u001b[39m\"\u001b[39m\u001b[39mtu_usuario\u001b[39m\u001b[39m\"\u001b[39m,\n\u001b[0;32m      <a href='vscode-notebook-cell:/c%3A/Users/Natalia/Recursos%20DN_COM_58/DIGITAL-NAO-RETO_3-MySQL-SQL_SERVER_EN_LA_GESTI%C3%93N_DE_BASES_DE_DATOS_RELACIONALES/creacion_db.ipynb#X10sZmlsZQ%3D%3D?line=8'>9</a>\u001b[0m     password\u001b[39m=\u001b[39m\u001b[39m\"\u001b[39m\u001b[39mtu_contraseña\u001b[39m\u001b[39m\"\u001b[39m\n\u001b[0;32m     <a href='vscode-notebook-cell:/c%3A/Users/Natalia/Recursos%20DN_COM_58/DIGITAL-NAO-RETO_3-MySQL-SQL_SERVER_EN_LA_GESTI%C3%93N_DE_BASES_DE_DATOS_RELACIONALES/creacion_db.ipynb#X10sZmlsZQ%3D%3D?line=9'>10</a>\u001b[0m )\n",
      "\u001b[1;31mNameError\u001b[0m: name 'json' is not defined"
     ]
    }
   ],
   "source": [
    "# Leer el archivo JSON\n",
    "with open('tweets_extraction.json', 'r') as file:\n",
    "    tweets_extraction = json.load(file)\n",
    "\n",
    "# Conectar a MySQL\n",
    "mydb = mysql.connector.connect(\n",
    "    host=\"tu_host\",\n",
    "    user=\"tu_usuario\",\n",
    "    password=\"tu_contraseña\"\n",
    ")\n",
    "\n",
    "# Crear un cursor para ejecutar consultas SQL\n",
    "mycursor = mydb.cursor()\n",
    "\n",
    "# Crear la base de datos si no existe\n",
    "mycursor.execute(\"CREATE DATABASE IF NOT EXISTS nombre_de_la_base_de_datos\")\n",
    "\n",
    "# Seleccionar la base de datos\n",
    "mycursor.execute(\"USE nombre_de_la_base_de_datos\")\n",
    "\n",
    "# Crear la tabla para los tweets\n",
    "mycursor.execute(\"\"\"\n",
    "    CREATE TABLE IF NOT EXISTS tweets (\n",
    "        id INT PRIMARY KEY,\n",
    "        texto TEXT,\n",
    "        usuario VARCHAR(255),\n",
    "        fecha DATETIME,\n",
    "        retweets INT,\n",
    "        favoritos INT\n",
    "    )\n",
    "\"\"\")\n",
    "\n",
    "# Crear la tabla para los hashtags\n",
    "mycursor.execute(\"\"\"\n",
    "    CREATE TABLE IF NOT EXISTS hashtags (\n",
    "        id INT PRIMARY KEY AUTO_INCREMENT,\n",
    "        tweet_id INT,\n",
    "        hashtag VARCHAR(255),\n",
    "        FOREIGN KEY (tweet_id) REFERENCES tweets(id)\n",
    "    )\n",
    "\"\"\")\n",
    "\n",
    "# Asegurar que se utilice el motor InnoDB para soportar claves foráneas\n",
    "mycursor.execute(\"ALTER TABLE hashtags ENGINE=InnoDB\")\n",
    "\n",
    "# Insertar datos en la tabla de tweets\n",
    "for tweet in tweets_extraction:\n",
    "    tweet_data = (tweet['id'], tweet['texto'], tweet['usuario'], tweet['fecha'], tweet['retweets'], tweet['favoritos'])\n",
    "    mycursor.execute(\"INSERT INTO tweets (id, texto, usuario, fecha, retweets, favoritos) VALUES (%s, %s, %s, %s, %s, %s)\", tweet_data)\n",
    "\n",
    "# Insertar datos en la tabla de hashtags\n",
    "for tweet in tweets_extraction:\n",
    "    tweet_id = tweet['id']\n",
    "    hashtags = tweet['hashtags'] if 'hashtags' in tweet else []\n",
    "    for hashtag in hashtags:\n",
    "        hashtag_data = (tweet_id, hashtag)\n",
    "        mycursor.execute(\"INSERT INTO hashtags (tweet_id, hashtag) VALUES (%s, %s)\", hashtag_data)\n",
    "\n",
    "# Asegurarse de aplicar los cambios\n",
    "mydb.commit()\n",
    "\n",
    "# Cerrar la conexión\n",
    "mycursor.close()\n",
    "mydb.close()\n",
    "\n"
   ]
  }
 ],
 "metadata": {
  "kernelspec": {
   "display_name": "base",
   "language": "python",
   "name": "python3"
  },
  "language_info": {
   "codemirror_mode": {
    "name": "ipython",
    "version": 3
   },
   "file_extension": ".py",
   "mimetype": "text/x-python",
   "name": "python",
   "nbconvert_exporter": "python",
   "pygments_lexer": "ipython3",
   "version": "3.11.4"
  }
 },
 "nbformat": 4,
 "nbformat_minor": 2
}
